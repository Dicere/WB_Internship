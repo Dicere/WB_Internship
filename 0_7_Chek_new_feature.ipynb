{
  "nbformat": 4,
  "nbformat_minor": 0,
  "metadata": {
    "colab": {
      "provenance": [],
      "mount_file_id": "1FCSuf2W8J_6j5W7QREwZgwCw7mL6foP5",
      "authorship_tag": "ABX9TyPZ1wetugmVbbyPQ4YQeI7h",
      "include_colab_link": true
    },
    "kernelspec": {
      "name": "python3",
      "display_name": "Python 3"
    },
    "language_info": {
      "name": "python"
    }
  },
  "cells": [
    {
      "cell_type": "markdown",
      "metadata": {
        "id": "view-in-github",
        "colab_type": "text"
      },
      "source": [
        "<a href=\"https://colab.research.google.com/github/Dicere/WB_Internship/blob/main/0_7_Chek_new_feature.ipynb\" target=\"_parent\"><img src=\"https://colab.research.google.com/assets/colab-badge.svg\" alt=\"Open In Colab\"/></a>"
      ]
    },
    {
      "cell_type": "code",
      "execution_count": null,
      "metadata": {
        "id": "wRUyPZiscwuD"
      },
      "outputs": [],
      "source": [
        "!pip install catboost"
      ]
    },
    {
      "cell_type": "code",
      "source": [
        "import matplotlib.pyplot as plt\n",
        "import pandas as pd\n",
        "from tqdm.notebook import tqdm\n",
        "from catboost import CatBoostClassifier, Pool\n",
        "import numpy as np\n",
        "from sklearn.model_selection import train_test_split\n",
        "from sklearn.metrics import roc_auc_score, f1_score, classification_report, recall_score, precision_recall_curve,precision_score, precision_recall_fscore_support\n",
        "import statsmodels.api as sm\n",
        "from sklearn.model_selection import StratifiedKFold\n",
        "import matplotlib.pyplot as plt"
      ],
      "metadata": {
        "id": "1qMqwLWydFku"
      },
      "execution_count": 16,
      "outputs": []
    },
    {
      "cell_type": "code",
      "source": [
        "df = pd.read_csv('/content/drive/MyDrive/WB_стажировка/wb_school_task_2.csv.gzip',compression='gzip')\n",
        "df = df.drop_duplicates(ignore_index=True)"
      ],
      "metadata": {
        "id": "FkvivAS0dKoz"
      },
      "execution_count": 3,
      "outputs": []
    },
    {
      "cell_type": "code",
      "source": [
        "kvad_sum=(lambda x: sum(i**2 for i in x))\n",
        "kvad_sum.__name__ = 'kvad_sum'\n",
        "\n",
        "interkvartil_razmah = (lambda x: np.percentile(x, 75) - np.percentile(x, 25))\n",
        "interkvartil_razmah.__name__ = 'interkvartil_razmah'\n",
        "\n",
        "range_dannih = (lambda x: x.max()-x.min())\n",
        "range_dannih.__name__ = 'range_dannih'\n",
        "\n",
        "quant90 = lambda x: x.quantile(0.9)\n",
        "quant90.__name__ = 'quant90'"
      ],
      "metadata": {
        "id": "RFIGbJjgdMJd"
      },
      "execution_count": 4,
      "outputs": []
    },
    {
      "cell_type": "code",
      "source": [
        "aggs_list = ['min','max', 'mean', 'median', 'count', 'sum',kvad_sum,interkvartil_razmah,range_dannih,quant90]"
      ],
      "metadata": {
        "id": "mG-hpsyFdOcZ"
      },
      "execution_count": 5,
      "outputs": []
    },
    {
      "cell_type": "code",
      "source": [
        "df_agg = df[['id3','f1','f2','f3','f4','f5','f6','f7','f8']].groupby(by=['id3']).agg(aggs_list).reset_index()\n",
        "df_agg.columns = ['_by_id3_'.join(col) for col in df_agg.columns.values]\n",
        "df_agg = df_agg.rename(columns={'id3_by_id3_':'id3'})"
      ],
      "metadata": {
        "id": "qhspjaCXdP-k"
      },
      "execution_count": 6,
      "outputs": []
    },
    {
      "cell_type": "code",
      "source": [
        "df1 = pd.merge(df,df_agg,how='left',on=['id3'])"
      ],
      "metadata": {
        "id": "CmzUlhjXdR8C"
      },
      "execution_count": 7,
      "outputs": []
    },
    {
      "cell_type": "code",
      "source": [
        "clear_df = df1[['f1','f2','f3','f4','f5','f6','f7','f8','f1_by_id3_sum', 'f2_by_id3_sum', 'f3_by_id3_sum', 'f4_by_id3_sum',\n",
        "       'f5_by_id3_sum', 'f6_by_id3_sum', 'f7_by_id3_sum', 'f8_by_id3_sum']]"
      ],
      "metadata": {
        "id": "9stoNFmqdV-V"
      },
      "execution_count": 8,
      "outputs": []
    },
    {
      "cell_type": "code",
      "source": [
        "feature_dict = {}\n",
        "def summ(b=0,i=0):\n",
        "  name = str('sum_'+clear_df.columns[b] +\"_\"+ clear_df.columns[i])\n",
        "  feature_dict[name] = clear_df.iloc[:,b] + clear_df.iloc[:,i]\n",
        "def subtraction(b=0,i=0):\n",
        "    name = str('subtraction_'+clear_df.columns[b] +\"_\"+ clear_df.columns[i])\n",
        "    feature_dict[name] = abs(clear_df.iloc[:,b] - clear_df.iloc[:,i])\n",
        "def multiplication(b=0,i=0):\n",
        "    name = str('multiplication_'+clear_df.columns[b] +\"_\"+ clear_df.columns[i])\n",
        "    feature_dict[name] = abs(clear_df.iloc[:,b] * clear_df.iloc[:,i])\n",
        "def division(b=0,i=0):\n",
        "    name = str('division_'+clear_df.columns[b] +\"_\"+ clear_df.columns[i])\n",
        "    feature_dict[name] = abs((clear_df.iloc[:,b] / clear_df.iloc[:,i]).fillna(0))\n",
        "    name = str('division_'+clear_df.columns[i]+\"_\"+clear_df.columns[b])\n",
        "    feature_dict[name] = abs((clear_df.iloc[:,i] /clear_df.iloc[:,b]).fillna(0))"
      ],
      "metadata": {
        "id": "5YIQMg6MdXhw"
      },
      "execution_count": 9,
      "outputs": []
    },
    {
      "cell_type": "code",
      "source": [
        "conversions_list = {'sum':summ,'subtraction':subtraction,'division':division,'multiplication':multiplication}"
      ],
      "metadata": {
        "id": "doGkzOsWdZ5r"
      },
      "execution_count": 10,
      "outputs": []
    },
    {
      "cell_type": "code",
      "source": [
        "idx=0\n",
        "for conv in conversions_list.keys():\n",
        "  for b in range(len(clear_df.columns)-1):\n",
        "    if conv == 'multiplication':\n",
        "      for i in range(b,len(clear_df.columns)):\n",
        "        conversions_list[conv](b,i)\n",
        "    else:\n",
        "      for i in range(b+1,len(clear_df.columns)):\n",
        "        conversions_list[conv](b,i)\n"
      ],
      "metadata": {
        "id": "2O8kvr7_dbJ1"
      },
      "execution_count": 11,
      "outputs": []
    },
    {
      "cell_type": "code",
      "source": [
        "df1 = df1.assign(**feature_dict)"
      ],
      "metadata": {
        "id": "G_if6hsGddzC"
      },
      "execution_count": null,
      "outputs": []
    },
    {
      "cell_type": "code",
      "source": [
        "cols_to_drop = df1.columns[df1.nunique() == 1]\n",
        "df1 = df1.drop(cols_to_drop, axis=1)\n",
        "df1.replace([np.inf, -np.inf], 0, inplace=True)"
      ],
      "metadata": {
        "id": "Mi7Hxpvtdf0d"
      },
      "execution_count": 13,
      "outputs": []
    },
    {
      "cell_type": "code",
      "source": [
        "X = df1[df1.drop('label', axis=1).columns[4::]]\n",
        "y=df1.label"
      ],
      "metadata": {
        "id": "DP9XR5JCdiHp"
      },
      "execution_count": 14,
      "outputs": []
    },
    {
      "cell_type": "code",
      "source": [
        "N_SPLITS = 7\n",
        "current_feat = list(X.columns[:8])"
      ],
      "metadata": {
        "id": "9At0xsw-Shmz"
      },
      "execution_count": 32,
      "outputs": []
    },
    {
      "cell_type": "code",
      "source": [
        "def test_features(columns,N_SPLITS):\n",
        "  cv = StratifiedKFold(n_splits=N_SPLITS, shuffle=True, random_state=22)\n",
        "  cv_scores_AUC_ROC = np.empty(N_SPLITS)\n",
        "  cv_scores_f1_score = np.empty(N_SPLITS)\n",
        "  cv_scores_Precision = np.empty(N_SPLITS)\n",
        "  cv_scores_Recall = np.empty(N_SPLITS)\n",
        "  cv_scores = np.empty(N_SPLITS)\n",
        "  roc_auc_score_1 = np.empty(N_SPLITS)\n",
        "  for idx, (train_idx, test_idx) in enumerate(cv.split(X, y)):\n",
        "    # print('--'*10+f'TRIAL {trial.number} ~ '+f'FOLD {idx}'+'--'*10)\n",
        "    X_train, X_val = X.iloc[train_idx], X.iloc[test_idx]\n",
        "    y_train, y_val  = y.iloc[train_idx], y.iloc[test_idx]\n",
        "    train_pool = Pool(X_train[columns], y_train, feature_names=columns)\n",
        "    test_pool = Pool(X_val[columns], y_val, feature_names=columns)\n",
        "\n",
        "\n",
        "    model = CatBoostClassifier()\n",
        "    model.fit(\n",
        "        train_pool,\n",
        "        eval_set=test_pool,\n",
        "        early_stopping_rounds=100,\n",
        "        use_best_model=True,\n",
        "        verbose=0\n",
        "\n",
        "    )\n",
        "    y_pred_metki = model.predict(test_pool)\n",
        "    y_pred = model.predict_proba(test_pool)[:, 1]\n",
        "    precision = precision_score(y_val, y_pred_metki)\n",
        "    recall = recall_score(y_val, y_pred_metki)\n",
        "    cv_scores_AUC_ROC[idx] = roc_auc_score(y_val, y_pred)\n",
        "    cv_scores_f1_score[idx] = f1_score(y_val, y_pred_metki,average='macro')\n",
        "    # print(precision)\n",
        "    cv_scores_Precision[idx] = precision\n",
        "    cv_scores_Recall[idx] = recall\n",
        "  print(\"AUC_ROC----\"+str(np.mean(cv_scores_AUC_ROC)))\n",
        "  print(\"F1-score-----\"+str(np.mean(cv_scores_f1_score)))\n",
        "  print(\"Precision-----\"+str(np.mean(cv_scores_Precision)))\n",
        "  print(\"Recall-----\"+str(np.mean(cv_scores_Recall)))"
      ],
      "metadata": {
        "id": "f_SlyTvFUsgp"
      },
      "execution_count": 36,
      "outputs": []
    },
    {
      "cell_type": "markdown",
      "source": [
        "### Стартовые фичи"
      ],
      "metadata": {
        "id": "Ikn0stKyU3L6"
      }
    },
    {
      "cell_type": "code",
      "source": [
        "test_features(current_feat,N_SPLITS)"
      ],
      "metadata": {
        "id": "4mioNLZedk0f",
        "colab": {
          "base_uri": "https://localhost:8080/"
        },
        "outputId": "4f92f952-ef8a-425b-9158-22577edff9b2"
      },
      "execution_count": 37,
      "outputs": [
        {
          "output_type": "stream",
          "name": "stdout",
          "text": [
            "AUC_ROC----0.7497612183590228\n",
            "F1-score-----0.6521688420618404\n",
            "Precision-----0.7418994446413801\n",
            "Recall-----0.30912025827280065\n"
          ]
        }
      ]
    },
    {
      "cell_type": "markdown",
      "source": [
        "### +1 фича"
      ],
      "metadata": {
        "id": "EqLPzEn8VKkG"
      }
    },
    {
      "cell_type": "code",
      "source": [
        "columns= ['f1', 'f2', 'f3', 'f4', 'f5', 'f6', 'f7', 'f8', 'f2_by_id3_mean']"
      ],
      "metadata": {
        "id": "rvVftrASVGC7"
      },
      "execution_count": 39,
      "outputs": []
    },
    {
      "cell_type": "code",
      "source": [
        "test_features(columns,N_SPLITS)"
      ],
      "metadata": {
        "colab": {
          "base_uri": "https://localhost:8080/"
        },
        "id": "e_9qRMhvVIkz",
        "outputId": "dea268b0-0414-4376-8b0e-eff73853f1a5"
      },
      "execution_count": 40,
      "outputs": [
        {
          "output_type": "stream",
          "name": "stdout",
          "text": [
            "AUC_ROC----0.758623261816581\n",
            "F1-score-----0.6540957491218313\n",
            "Precision-----0.7333994720280212\n",
            "Recall-----0.31394217834895805\n"
          ]
        }
      ]
    },
    {
      "cell_type": "markdown",
      "source": [
        "### +2 фича"
      ],
      "metadata": {
        "id": "wKR6zCTlkFEe"
      }
    },
    {
      "cell_type": "code",
      "source": [
        "columns = ['f1', 'f2', 'f3', 'f4', 'f5', 'f6', 'f7', 'f8', 'division_f1_f2', 'division_f7_f3_by_id3_sum']"
      ],
      "metadata": {
        "id": "yyK_DoGTkAWC"
      },
      "execution_count": 45,
      "outputs": []
    },
    {
      "cell_type": "code",
      "source": [
        "test_features(columns,N_SPLITS)"
      ],
      "metadata": {
        "colab": {
          "base_uri": "https://localhost:8080/"
        },
        "id": "_bRUET1KkCu7",
        "outputId": "ba286a3c-37e4-4a82-f5ae-12c2ccf619e9"
      },
      "execution_count": 46,
      "outputs": [
        {
          "output_type": "stream",
          "name": "stdout",
          "text": [
            "AUC_ROC----0.7613993723510063\n",
            "F1-score-----0.651405421439226\n",
            "Precision-----0.7161741471425598\n",
            "Recall-----0.3139525258169326\n"
          ]
        }
      ]
    },
    {
      "cell_type": "markdown",
      "source": [
        "### +3 фичи"
      ],
      "metadata": {
        "id": "AGiVD7swmM_6"
      }
    },
    {
      "cell_type": "code",
      "source": [
        "columns = ['f1', 'f2', 'f3', 'f4', 'f5', 'f6', 'f7', 'f8', 'sum_f3_f6', 'division_f2_f1', 'division_f7_f6_by_id3_sum']"
      ],
      "metadata": {
        "id": "zTcp6e9QmJnj"
      },
      "execution_count": 47,
      "outputs": []
    },
    {
      "cell_type": "code",
      "source": [
        "test_features(columns,N_SPLITS)"
      ],
      "metadata": {
        "colab": {
          "base_uri": "https://localhost:8080/"
        },
        "id": "zneXoOMPmL0j",
        "outputId": "6c0fa1cc-83df-44af-e3ab-f06e448c2685"
      },
      "execution_count": 48,
      "outputs": [
        {
          "output_type": "stream",
          "name": "stdout",
          "text": [
            "AUC_ROC----0.7567801289600739\n",
            "F1-score-----0.6433384366493404\n",
            "Precision-----0.7096717637824368\n",
            "Recall-----0.3006456820016142\n"
          ]
        }
      ]
    },
    {
      "cell_type": "markdown",
      "source": [
        "### 32 feature"
      ],
      "metadata": {
        "id": "4mJaC9XphZvg"
      }
    },
    {
      "cell_type": "code",
      "source": [
        "columns = ['f1', 'f2', 'f3', 'f4', 'f5', 'f6', 'f7', 'f8', 'f1_by_id3_median', 'f2_by_id3_mean', 'f2_by_id3_median', 'f6_by_id3_min', 'f6_by_id3_median', 'f6_by_id3_interkvartil_razmah', 'sum_f3_f6', 'subtraction_f3_f6', 'subtraction_f3_by_id3_sum_f6_by_id3_sum', 'division_f2_f1', 'division_f2_f7', 'division_f3_f4', 'division_f4_f7', 'division_f7_f4', 'division_f8_f4', 'division_f7_f5', 'division_f7_f8', 'division_f2_by_id3_sum_f3_by_id3_sum', 'division_f2_by_id3_sum_f6_by_id3_sum', 'division_f2_by_id3_sum_f7_by_id3_sum', 'division_f7_by_id3_sum_f3_by_id3_sum', 'multiplication_f3_f3', 'multiplication_f3_f6', 'multiplication_f4_f7']"
      ],
      "metadata": {
        "id": "nOO-TZ4biTFe"
      },
      "execution_count": 34,
      "outputs": []
    },
    {
      "cell_type": "code",
      "source": [
        "test_features(columns,N_SPLITS)"
      ],
      "metadata": {
        "id": "AMtveKsHhW2E",
        "colab": {
          "base_uri": "https://localhost:8080/"
        },
        "outputId": "d7caf041-d66e-4f85-d2ba-7d35eb05c741"
      },
      "execution_count": 38,
      "outputs": [
        {
          "output_type": "stream",
          "name": "stdout",
          "text": [
            "AUC_ROC----0.7688250026308988\n",
            "F1-score-----0.663151346621588\n",
            "Precision-----0.7226529021308832\n",
            "Recall-----0.3369756420603878\n"
          ]
        }
      ]
    },
    {
      "cell_type": "markdown",
      "source": [
        "### 52 feature"
      ],
      "metadata": {
        "id": "hecxptNZVmpy"
      }
    },
    {
      "cell_type": "code",
      "source": [
        "columns =  ['f1', 'f2', 'f3', 'f4', 'f5', 'f6', 'f7', 'f8', 'f1_by_id3_median', 'f1_by_id3_interkvartil_razmah', 'f2_by_id3_mean', 'f2_by_id3_quant90', 'f3_by_id3_min', 'f3_by_id3_max', 'f6_by_id3_min', 'f6_by_id3_max', 'f6_by_id3_mean', 'f6_by_id3_median', 'f6_by_id3_interkvartil_razmah', 'f6_by_id3_range_dannih', 'f6_by_id3_quant90', 'f7_by_id3_mean', 'sum_f3_f6', 'sum_f4_f6', 'subtraction_f1_f7', 'subtraction_f2_f6', 'subtraction_f3_f6', 'subtraction_f4_f5', 'subtraction_f3_by_id3_sum_f6_by_id3_sum', 'division_f1_f2', 'division_f6_f3', 'division_f5_f4', 'division_f4_f7', 'division_f7_f4', 'division_f8_f4', 'division_f4_f4_by_id3_sum', 'division_f4_by_id3_sum_f4', 'division_f7_f5', 'division_f5_f2_by_id3_sum', 'division_f7_f8', 'division_f7_f3_by_id3_sum', 'division_f6_by_id3_sum_f7', 'division_f2_by_id3_sum_f3_by_id3_sum', 'division_f3_by_id3_sum_f2_by_id3_sum', 'division_f5_by_id3_sum_f2_by_id3_sum', 'division_f2_by_id3_sum_f6_by_id3_sum', 'division_f6_by_id3_sum_f2_by_id3_sum', 'division_f2_by_id3_sum_f7_by_id3_sum', 'division_f7_by_id3_sum_f3_by_id3_sum', 'multiplication_f3_f3', 'multiplication_f3_f6', 'multiplication_f6_f6']"
      ],
      "metadata": {
        "id": "RmhGycz-Jz--"
      },
      "execution_count": 42,
      "outputs": []
    },
    {
      "cell_type": "code",
      "source": [
        "test_features(columns,N_SPLITS)"
      ],
      "metadata": {
        "colab": {
          "base_uri": "https://localhost:8080/"
        },
        "id": "ZIFW0WFsVsb0",
        "outputId": "3f870b9a-fa3b-4246-9026-f59e205fa7a1"
      },
      "execution_count": 44,
      "outputs": [
        {
          "output_type": "stream",
          "name": "stdout",
          "text": [
            "AUC_ROC----0.7701107862774038\n",
            "F1-score-----0.6627505781507379\n",
            "Precision-----0.7413340021318253\n",
            "Recall-----0.3309223732952547\n"
          ]
        }
      ]
    }
  ]
}