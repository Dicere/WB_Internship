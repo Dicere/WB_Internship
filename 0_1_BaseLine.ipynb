{
  "nbformat": 4,
  "nbformat_minor": 0,
  "metadata": {
    "colab": {
      "provenance": [],
      "mount_file_id": "1X12I3BDBQ8ixYX_Bj5vUJ0JS_THC0m_U",
      "authorship_tag": "ABX9TyN79+IStkBpQTD2T4Ya1U1P",
      "include_colab_link": true
    },
    "kernelspec": {
      "name": "python3",
      "display_name": "Python 3"
    },
    "language_info": {
      "name": "python"
    }
  },
  "cells": [
    {
      "cell_type": "markdown",
      "metadata": {
        "id": "view-in-github",
        "colab_type": "text"
      },
      "source": [
        "<a href=\"https://colab.research.google.com/github/Dicere/WB_Internship/blob/main/0_1_BaseLine.ipynb\" target=\"_parent\"><img src=\"https://colab.research.google.com/assets/colab-badge.svg\" alt=\"Open In Colab\"/></a>"
      ]
    },
    {
      "cell_type": "code",
      "source": [
        "!pip install catboost"
      ],
      "metadata": {
        "id": "ofhdGYWrTdes"
      },
      "execution_count": null,
      "outputs": []
    },
    {
      "cell_type": "code",
      "execution_count": null,
      "metadata": {
        "id": "XiGc1w_TITl7"
      },
      "outputs": [],
      "source": [
        "import matplotlib.pyplot as plt\n",
        "import pandas as pd\n",
        "from tqdm.notebook import tqdm\n",
        "from catboost import CatBoostClassifier\n",
        "import numpy as np\n",
        "from sklearn.model_selection import train_test_split\n",
        "from sklearn.metrics import roc_auc_score, f1_score, classification_report, recall_score, precision_recall_curve,precision_score, precision_recall_fscore_support\n",
        "import statsmodels.api as sm\n",
        "from sklearn.model_selection import StratifiedKFold\n"
      ]
    },
    {
      "cell_type": "code",
      "source": [
        "df = pd.read_csv('/content/drive/MyDrive/WB_стажировка/wb_school_task_2.csv.gzip',compression='gzip')\n",
        "df = df.drop_duplicates()"
      ],
      "metadata": {
        "id": "Nc9cA88ATeYb"
      },
      "execution_count": null,
      "outputs": []
    },
    {
      "cell_type": "code",
      "source": [
        "cat_feat = ['text']\n",
        "feature=df[df.columns[3:]].columns"
      ],
      "metadata": {
        "id": "dtgTx96Gt7XM"
      },
      "execution_count": null,
      "outputs": []
    },
    {
      "cell_type": "code",
      "source": [
        "X = df[feature].drop(columns=['label','text'])\n",
        "y = df['label']"
      ],
      "metadata": {
        "id": "EWawQAnUtrNZ"
      },
      "execution_count": null,
      "outputs": []
    },
    {
      "cell_type": "code",
      "source": [
        "X_train, X_test, y_train, y_test = train_test_split(X, y, test_size=0.2, random_state=42,stratify=y)"
      ],
      "metadata": {
        "id": "UYLEOixhzZWJ"
      },
      "execution_count": null,
      "outputs": []
    },
    {
      "cell_type": "code",
      "source": [
        "clf = CatBoostClassifier(verbose=0)\n",
        "clf.fit(X_train, y_train)"
      ],
      "metadata": {
        "colab": {
          "base_uri": "https://localhost:8080/"
        },
        "id": "JZGg8Yk6t7yA",
        "outputId": "86e0a45e-3987-4cfd-a341-325f5c5b4255"
      },
      "execution_count": null,
      "outputs": [
        {
          "output_type": "execute_result",
          "data": {
            "text/plain": [
              "<catboost.core.CatBoostClassifier at 0x7f7a6f415270>"
            ]
          },
          "metadata": {},
          "execution_count": 17
        }
      ]
    },
    {
      "cell_type": "code",
      "source": [
        "threshold = 0.5"
      ],
      "metadata": {
        "id": "0jkV1hbf_PDo"
      },
      "execution_count": null,
      "outputs": []
    },
    {
      "cell_type": "code",
      "source": [
        "y_pred = clf.predict_proba( X_test)[:, 1]\n",
        "y_pred_metki = (y_pred> threshold).astype('int')"
      ],
      "metadata": {
        "id": "wXVFg061_Np7"
      },
      "execution_count": null,
      "outputs": []
    },
    {
      "cell_type": "code",
      "source": [
        "precision, recall, f1, _ = precision_recall_fscore_support(y_test, y_pred_metki, average='macro')\n",
        "roc = roc_auc_score(y_test, y_pred)\n",
        "print(\"AUC_ROC----\"+str(roc))\n",
        "print(\"F1-score-----\"+str(f1))\n",
        "print(\"Precision-----\"+str(precision))\n",
        "print(\"Recall-----\"+str(recall))"
      ],
      "metadata": {
        "colab": {
          "base_uri": "https://localhost:8080/"
        },
        "id": "IZEZ3XY7-GlU",
        "outputId": "99f8d945-fb12-4e6a-87f5-5fd1097a02d3"
      },
      "execution_count": null,
      "outputs": [
        {
          "output_type": "stream",
          "name": "stdout",
          "text": [
            "AUC_ROC----0.7663504611330698\n",
            "F1-score-----0.6477303317854499\n",
            "Precision-----0.7589015743926597\n",
            "Recall-----0.6308629776021081\n"
          ]
        }
      ]
    }
  ]
}