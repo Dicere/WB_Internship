{
  "cells": [
    {
      "cell_type": "markdown",
      "metadata": {
        "id": "view-in-github",
        "colab_type": "text"
      },
      "source": [
        "<a href=\"https://colab.research.google.com/github/Dicere/WB_Internship/blob/main/0_6_Generate_feature_f1_f8.ipynb\" target=\"_parent\"><img src=\"https://colab.research.google.com/assets/colab-badge.svg\" alt=\"Open In Colab\"/></a>"
      ]
    },
    {
      "cell_type": "code",
      "execution_count": 1,
      "metadata": {
        "colab": {
          "base_uri": "https://localhost:8080/"
        },
        "id": "0zFEMs6yN14Y",
        "outputId": "4992f163-b280-4efb-c468-b2fccd608f6c"
      },
      "outputs": [
        {
          "output_type": "stream",
          "name": "stdout",
          "text": [
            "Looking in indexes: https://pypi.org/simple, https://us-python.pkg.dev/colab-wheels/public/simple/\n",
            "Collecting catboost\n",
            "  Downloading catboost-1.2-cp310-cp310-manylinux2014_x86_64.whl (98.6 MB)\n",
            "\u001b[2K     \u001b[90m━━━━━━━━━━━━━━━━━━━━━━━━━━━━━━━━━━━━━━━━\u001b[0m \u001b[32m98.6/98.6 MB\u001b[0m \u001b[31m7.7 MB/s\u001b[0m eta \u001b[36m0:00:00\u001b[0m\n",
            "\u001b[?25hRequirement already satisfied: graphviz in /usr/local/lib/python3.10/dist-packages (from catboost) (0.20.1)\n",
            "Requirement already satisfied: matplotlib in /usr/local/lib/python3.10/dist-packages (from catboost) (3.7.1)\n",
            "Requirement already satisfied: numpy>=1.16.0 in /usr/local/lib/python3.10/dist-packages (from catboost) (1.22.4)\n",
            "Requirement already satisfied: pandas>=0.24 in /usr/local/lib/python3.10/dist-packages (from catboost) (1.5.3)\n",
            "Requirement already satisfied: scipy in /usr/local/lib/python3.10/dist-packages (from catboost) (1.10.1)\n",
            "Requirement already satisfied: plotly in /usr/local/lib/python3.10/dist-packages (from catboost) (5.13.1)\n",
            "Requirement already satisfied: six in /usr/local/lib/python3.10/dist-packages (from catboost) (1.16.0)\n",
            "Requirement already satisfied: python-dateutil>=2.8.1 in /usr/local/lib/python3.10/dist-packages (from pandas>=0.24->catboost) (2.8.2)\n",
            "Requirement already satisfied: pytz>=2020.1 in /usr/local/lib/python3.10/dist-packages (from pandas>=0.24->catboost) (2022.7.1)\n",
            "Requirement already satisfied: contourpy>=1.0.1 in /usr/local/lib/python3.10/dist-packages (from matplotlib->catboost) (1.0.7)\n",
            "Requirement already satisfied: cycler>=0.10 in /usr/local/lib/python3.10/dist-packages (from matplotlib->catboost) (0.11.0)\n",
            "Requirement already satisfied: fonttools>=4.22.0 in /usr/local/lib/python3.10/dist-packages (from matplotlib->catboost) (4.39.3)\n",
            "Requirement already satisfied: kiwisolver>=1.0.1 in /usr/local/lib/python3.10/dist-packages (from matplotlib->catboost) (1.4.4)\n",
            "Requirement already satisfied: packaging>=20.0 in /usr/local/lib/python3.10/dist-packages (from matplotlib->catboost) (23.1)\n",
            "Requirement already satisfied: pillow>=6.2.0 in /usr/local/lib/python3.10/dist-packages (from matplotlib->catboost) (8.4.0)\n",
            "Requirement already satisfied: pyparsing>=2.3.1 in /usr/local/lib/python3.10/dist-packages (from matplotlib->catboost) (3.0.9)\n",
            "Requirement already satisfied: tenacity>=6.2.0 in /usr/local/lib/python3.10/dist-packages (from plotly->catboost) (8.2.2)\n",
            "Installing collected packages: catboost\n",
            "Successfully installed catboost-1.2\n",
            "Looking in indexes: https://pypi.org/simple, https://us-python.pkg.dev/colab-wheels/public/simple/\n",
            "Collecting lazypredict\n",
            "  Downloading lazypredict-0.2.12-py2.py3-none-any.whl (12 kB)\n",
            "Requirement already satisfied: click in /usr/local/lib/python3.10/dist-packages (from lazypredict) (8.1.3)\n",
            "Requirement already satisfied: scikit-learn in /usr/local/lib/python3.10/dist-packages (from lazypredict) (1.2.2)\n",
            "Requirement already satisfied: pandas in /usr/local/lib/python3.10/dist-packages (from lazypredict) (1.5.3)\n",
            "Requirement already satisfied: tqdm in /usr/local/lib/python3.10/dist-packages (from lazypredict) (4.65.0)\n",
            "Requirement already satisfied: joblib in /usr/local/lib/python3.10/dist-packages (from lazypredict) (1.2.0)\n",
            "Requirement already satisfied: lightgbm in /usr/local/lib/python3.10/dist-packages (from lazypredict) (3.3.5)\n",
            "Requirement already satisfied: xgboost in /usr/local/lib/python3.10/dist-packages (from lazypredict) (1.7.5)\n",
            "Requirement already satisfied: wheel in /usr/local/lib/python3.10/dist-packages (from lightgbm->lazypredict) (0.40.0)\n",
            "Requirement already satisfied: numpy in /usr/local/lib/python3.10/dist-packages (from lightgbm->lazypredict) (1.22.4)\n",
            "Requirement already satisfied: scipy in /usr/local/lib/python3.10/dist-packages (from lightgbm->lazypredict) (1.10.1)\n",
            "Requirement already satisfied: threadpoolctl>=2.0.0 in /usr/local/lib/python3.10/dist-packages (from scikit-learn->lazypredict) (3.1.0)\n",
            "Requirement already satisfied: python-dateutil>=2.8.1 in /usr/local/lib/python3.10/dist-packages (from pandas->lazypredict) (2.8.2)\n",
            "Requirement already satisfied: pytz>=2020.1 in /usr/local/lib/python3.10/dist-packages (from pandas->lazypredict) (2022.7.1)\n",
            "Requirement already satisfied: six>=1.5 in /usr/local/lib/python3.10/dist-packages (from python-dateutil>=2.8.1->pandas->lazypredict) (1.16.0)\n",
            "Installing collected packages: lazypredict\n",
            "Successfully installed lazypredict-0.2.12\n",
            "Looking in indexes: https://pypi.org/simple, https://us-python.pkg.dev/colab-wheels/public/simple/\n",
            "Collecting featuretools\n",
            "  Downloading featuretools-1.26.0-py3-none-any.whl (618 kB)\n",
            "\u001b[2K     \u001b[90m━━━━━━━━━━━━━━━━━━━━━━━━━━━━━━━━━━━━━━━\u001b[0m \u001b[32m618.0/618.0 kB\u001b[0m \u001b[31m8.7 MB/s\u001b[0m eta \u001b[36m0:00:00\u001b[0m\n",
            "\u001b[?25hRequirement already satisfied: cloudpickle>=1.5.0 in /usr/local/lib/python3.10/dist-packages (from featuretools) (2.2.1)\n",
            "Requirement already satisfied: holidays>=0.13 in /usr/local/lib/python3.10/dist-packages (from featuretools) (0.25)\n",
            "Requirement already satisfied: numpy>=1.21.0 in /usr/local/lib/python3.10/dist-packages (from featuretools) (1.22.4)\n",
            "Requirement already satisfied: packaging>=20.0 in /usr/local/lib/python3.10/dist-packages (from featuretools) (23.1)\n",
            "Requirement already satisfied: pandas<2.0.0,>=1.5.0 in /usr/local/lib/python3.10/dist-packages (from featuretools) (1.5.3)\n",
            "Requirement already satisfied: psutil>=5.6.6 in /usr/local/lib/python3.10/dist-packages (from featuretools) (5.9.5)\n",
            "Requirement already satisfied: scipy>=1.4.0 in /usr/local/lib/python3.10/dist-packages (from featuretools) (1.10.1)\n",
            "Requirement already satisfied: tqdm>=4.32.0 in /usr/local/lib/python3.10/dist-packages (from featuretools) (4.65.0)\n",
            "Collecting woodwork>=0.23.0 (from featuretools)\n",
            "  Downloading woodwork-0.24.0-py3-none-any.whl (235 kB)\n",
            "\u001b[2K     \u001b[90m━━━━━━━━━━━━━━━━━━━━━━━━━━━━━━━━━━━━━━\u001b[0m \u001b[32m235.5/235.5 kB\u001b[0m \u001b[31m24.5 MB/s\u001b[0m eta \u001b[36m0:00:00\u001b[0m\n",
            "\u001b[?25hRequirement already satisfied: korean-lunar-calendar in /usr/local/lib/python3.10/dist-packages (from holidays>=0.13->featuretools) (0.3.1)\n",
            "Requirement already satisfied: python-dateutil in /usr/local/lib/python3.10/dist-packages (from holidays>=0.13->featuretools) (2.8.2)\n",
            "Requirement already satisfied: pytz>=2020.1 in /usr/local/lib/python3.10/dist-packages (from pandas<2.0.0,>=1.5.0->featuretools) (2022.7.1)\n",
            "Requirement already satisfied: scikit-learn>=0.22 in /usr/local/lib/python3.10/dist-packages (from woodwork>=0.23.0->featuretools) (1.2.2)\n",
            "Requirement already satisfied: importlib-resources>=5.10.0 in /usr/local/lib/python3.10/dist-packages (from woodwork>=0.23.0->featuretools) (5.12.0)\n",
            "Requirement already satisfied: six>=1.5 in /usr/local/lib/python3.10/dist-packages (from python-dateutil->holidays>=0.13->featuretools) (1.16.0)\n",
            "Requirement already satisfied: joblib>=1.1.1 in /usr/local/lib/python3.10/dist-packages (from scikit-learn>=0.22->woodwork>=0.23.0->featuretools) (1.2.0)\n",
            "Requirement already satisfied: threadpoolctl>=2.0.0 in /usr/local/lib/python3.10/dist-packages (from scikit-learn>=0.22->woodwork>=0.23.0->featuretools) (3.1.0)\n",
            "Installing collected packages: woodwork, featuretools\n",
            "Successfully installed featuretools-1.26.0 woodwork-0.24.0\n",
            "Looking in indexes: https://pypi.org/simple, https://us-python.pkg.dev/colab-wheels/public/simple/\n",
            "Collecting Boruta\n",
            "  Downloading Boruta-0.3-py3-none-any.whl (56 kB)\n",
            "\u001b[2K     \u001b[90m━━━━━━━━━━━━━━━━━━━━━━━━━━━━━━━━━━━━━━━━\u001b[0m \u001b[32m56.6/56.6 kB\u001b[0m \u001b[31m2.2 MB/s\u001b[0m eta \u001b[36m0:00:00\u001b[0m\n",
            "\u001b[?25hRequirement already satisfied: numpy>=1.10.4 in /usr/local/lib/python3.10/dist-packages (from Boruta) (1.22.4)\n",
            "Requirement already satisfied: scikit-learn>=0.17.1 in /usr/local/lib/python3.10/dist-packages (from Boruta) (1.2.2)\n",
            "Requirement already satisfied: scipy>=0.17.0 in /usr/local/lib/python3.10/dist-packages (from Boruta) (1.10.1)\n",
            "Requirement already satisfied: joblib>=1.1.1 in /usr/local/lib/python3.10/dist-packages (from scikit-learn>=0.17.1->Boruta) (1.2.0)\n",
            "Requirement already satisfied: threadpoolctl>=2.0.0 in /usr/local/lib/python3.10/dist-packages (from scikit-learn>=0.17.1->Boruta) (3.1.0)\n",
            "Installing collected packages: Boruta\n",
            "Successfully installed Boruta-0.3\n"
          ]
        }
      ],
      "source": [
        "!pip install catboost\n",
        "!pip install lazypredict\n",
        "!pip install featuretools\n",
        "!pip install Boruta"
      ]
    },
    {
      "cell_type": "code",
      "execution_count": 2,
      "metadata": {
        "id": "aQymobvQ3TIe"
      },
      "outputs": [],
      "source": [
        "from google.colab import output\n",
        "output.enable_custom_widget_manager()"
      ]
    },
    {
      "cell_type": "code",
      "execution_count": 3,
      "metadata": {
        "id": "w3PJPqLMNybW"
      },
      "outputs": [],
      "source": [
        "import matplotlib.pyplot as plt\n",
        "import pandas as pd\n",
        "from tqdm.notebook import tqdm\n",
        "from catboost import CatBoostClassifier\n",
        "import numpy as np\n",
        "from sklearn.model_selection import train_test_split\n",
        "from sklearn.metrics import roc_auc_score, f1_score, classification_report, recall_score, precision_recall_curve,precision_score, precision_recall_fscore_support\n",
        "import statsmodels.api as sm\n",
        "from sklearn.model_selection import StratifiedKFold\n",
        "from lazypredict.Supervised import LazyClassifier\n",
        "import matplotlib.pyplot as plt\n",
        "from boruta import BorutaPy"
      ]
    },
    {
      "cell_type": "code",
      "execution_count": 4,
      "metadata": {
        "id": "2kpLIBf0N2j4"
      },
      "outputs": [],
      "source": [
        "df = pd.read_csv('/content/drive/MyDrive/WB_стажировка/wb_school_task_2.csv.gzip',compression='gzip')\n",
        "df = df.drop_duplicates(ignore_index=True)"
      ]
    },
    {
      "cell_type": "code",
      "execution_count": 5,
      "metadata": {
        "id": "g0EKjmk4i1MA"
      },
      "outputs": [],
      "source": [
        "kvad_sum=(lambda x: sum(i**2 for i in x))\n",
        "kvad_sum.__name__ = 'kvad_sum'\n",
        "\n",
        "interkvartil_razmah = (lambda x: np.percentile(x, 75) - np.percentile(x, 25))\n",
        "interkvartil_razmah.__name__ = 'interkvartil_razmah'\n",
        "\n",
        "range_dannih = (lambda x: x.max()-x.min())\n",
        "range_dannih.__name__ = 'range_dannih'\n",
        "\n",
        "quant90 = lambda x: x.quantile(0.9)\n",
        "quant90.__name__ = 'quant90'"
      ]
    },
    {
      "cell_type": "code",
      "execution_count": 6,
      "metadata": {
        "id": "pIIlZnNKwU1v"
      },
      "outputs": [],
      "source": [
        "aggs_list = ['min','max', 'mean', 'median', 'count', 'sum',kvad_sum,interkvartil_razmah,range_dannih,quant90]"
      ]
    },
    {
      "cell_type": "code",
      "execution_count": 7,
      "metadata": {
        "id": "BrGxMRb0REH8"
      },
      "outputs": [],
      "source": [
        "df_agg = df[['id3','f1','f2','f3','f4','f5','f6','f7','f8']].groupby(by=['id3']).agg(aggs_list).reset_index()\n",
        "df_agg.columns = ['_by_id3_'.join(col) for col in df_agg.columns.values]\n",
        "df_agg = df_agg.rename(columns={'id3_by_id3_':'id3'})"
      ]
    },
    {
      "cell_type": "code",
      "execution_count": 8,
      "metadata": {
        "id": "E5_eLD2rSIrT"
      },
      "outputs": [],
      "source": [
        "df1 = pd.merge(df,df_agg,how='left',on=['id3'])"
      ]
    },
    {
      "cell_type": "markdown",
      "metadata": {
        "id": "dIkkSpBSPkBP"
      },
      "source": []
    },
    {
      "cell_type": "code",
      "execution_count": 9,
      "metadata": {
        "id": "8UvPnQE0lxvK"
      },
      "outputs": [],
      "source": [
        "# df1[df1.filter(regex='_sum').columns].columns"
      ]
    },
    {
      "cell_type": "code",
      "execution_count": 10,
      "metadata": {
        "id": "L7i7feL3OSO8"
      },
      "outputs": [],
      "source": [
        "# df = df.rename(columns={\"f1\": \"number_reviews_by_user\", \"f3\": \"mean_rating_user\",\"f4\": \"number_reviews_by_item\",\"f5\":\"number_photos\",\"f6\": \"mean_rating_item\",\"f7\": \"number_purchased\",\"f8\": \"number_orders\"})"
      ]
    },
    {
      "cell_type": "code",
      "execution_count": 11,
      "metadata": {
        "id": "0NfpGg7GOrEO"
      },
      "outputs": [],
      "source": [
        "clear_df = df1[['f1','f2','f3','f4','f5','f6','f7','f8','f1_by_id3_sum', 'f2_by_id3_sum', 'f3_by_id3_sum', 'f4_by_id3_sum',\n",
        "       'f5_by_id3_sum', 'f6_by_id3_sum', 'f7_by_id3_sum', 'f8_by_id3_sum']]"
      ]
    },
    {
      "cell_type": "code",
      "execution_count": 12,
      "metadata": {
        "id": "9dGDvxm5iusg"
      },
      "outputs": [],
      "source": [
        "feature_dict = {}\n",
        "def summ(b=0,i=0):\n",
        "  name = str('sum_'+clear_df.columns[b] +\"_\"+ clear_df.columns[i])\n",
        "  feature_dict[name] = clear_df.iloc[:,b] + clear_df.iloc[:,i]\n",
        "def subtraction(b=0,i=0):\n",
        "    name = str('subtraction_'+clear_df.columns[b] +\"_\"+ clear_df.columns[i])\n",
        "    feature_dict[name] = abs(clear_df.iloc[:,b] - clear_df.iloc[:,i])\n",
        "def multiplication(b=0,i=0):\n",
        "    name = str('multiplication_'+clear_df.columns[b] +\"_\"+ clear_df.columns[i])\n",
        "    feature_dict[name] = abs(clear_df.iloc[:,b] * clear_df.iloc[:,i])\n",
        "def division(b=0,i=0):\n",
        "    name = str('division_'+clear_df.columns[b] +\"_\"+ clear_df.columns[i])\n",
        "    feature_dict[name] = abs((clear_df.iloc[:,b] / clear_df.iloc[:,i]).fillna(0))\n",
        "    name = str('division_'+clear_df.columns[i]+\"_\"+clear_df.columns[b])\n",
        "    feature_dict[name] = abs((clear_df.iloc[:,i] /clear_df.iloc[:,b]).fillna(0))"
      ]
    },
    {
      "cell_type": "code",
      "execution_count": 13,
      "metadata": {
        "id": "5iugjkkqRr5r"
      },
      "outputs": [],
      "source": [
        "conversions_list = {'sum':summ,'subtraction':subtraction,'division':division,'multiplication':multiplication}"
      ]
    },
    {
      "cell_type": "code",
      "execution_count": 14,
      "metadata": {
        "id": "E2-vHckvS6rg"
      },
      "outputs": [],
      "source": [
        "idx=0\n",
        "for conv in conversions_list.keys():\n",
        "  for b in range(len(clear_df.columns)-1):\n",
        "    if conv == 'multiplication':\n",
        "      for i in range(b,len(clear_df.columns)):\n",
        "        conversions_list[conv](b,i)\n",
        "    else:\n",
        "      for i in range(b+1,len(clear_df.columns)):\n",
        "        conversions_list[conv](b,i)\n"
      ]
    },
    {
      "cell_type": "code",
      "execution_count": 15,
      "metadata": {
        "id": "6k2mTWG9lFul"
      },
      "outputs": [],
      "source": [
        "df1 = df1.assign(**feature_dict)"
      ]
    },
    {
      "cell_type": "code",
      "execution_count": 16,
      "metadata": {
        "id": "0n_FlB7Udppw"
      },
      "outputs": [],
      "source": [
        "cols_to_drop = df1.columns[df1.nunique() == 1]\n",
        "df1 = df1.drop(cols_to_drop, axis=1)\n",
        "df1.replace([np.inf, -np.inf], 0, inplace=True)"
      ]
    },
    {
      "cell_type": "code",
      "execution_count": 17,
      "metadata": {
        "id": "Apgq08AHviJ-"
      },
      "outputs": [],
      "source": [
        "X = df1[df1.drop('label', axis=1).columns[4::]]\n",
        "y=df1.label"
      ]
    },
    {
      "cell_type": "code",
      "execution_count": 18,
      "metadata": {
        "id": "hP-5c2lv1Q7g"
      },
      "outputs": [],
      "source": [
        "features_for_selection = list(X.columns[8::])\n",
        "# current_feat = list(X.columns[:8])\n",
        "current_feat = []"
      ]
    },
    {
      "cell_type": "code",
      "execution_count": 19,
      "metadata": {
        "colab": {
          "base_uri": "https://localhost:8080/"
        },
        "id": "KaRGGN9O52qy",
        "outputId": "ae292931-bd75-415c-df52-e2ecaf3b62e6"
      },
      "outputs": [
        {
          "output_type": "execute_result",
          "data": {
            "text/plain": [
              "695"
            ]
          },
          "metadata": {},
          "execution_count": 19
        }
      ],
      "source": [
        "len(features_for_selection)"
      ]
    },
    {
      "cell_type": "code",
      "execution_count": 20,
      "metadata": {
        "id": "LpuyD-6MckT0"
      },
      "outputs": [],
      "source": [
        "X_train, X_test, y_train, y_test = train_test_split(X, y, test_size=0.2, random_state=42,stratify=y)\n",
        "X_val, X_test, y_val, y_test =  train_test_split(X_test, y_test, test_size=0.2, random_state=42,stratify=y_test)"
      ]
    },
    {
      "cell_type": "code",
      "execution_count": 21,
      "metadata": {
        "colab": {
          "base_uri": "https://localhost:8080/"
        },
        "id": "l3w-gkfGeVQs",
        "outputId": "ab096a95-c78a-4d2e-edf2-df38e1460f20"
      },
      "outputs": [
        {
          "output_type": "stream",
          "name": "stdout",
          "text": [
            "AUC_ROC----0.7779973649538867\n",
            "F1-score-----0.6208291203235592\n",
            "Precision-----0.791304347826087\n",
            "Recall-----0.61034255599473\n"
          ]
        }
      ],
      "source": [
        "from catboost import CatBoostRegressor, Pool, EShapCalcType, EFeaturesSelectionAlgorithm\n",
        "from sklearn.datasets import make_regression\n",
        "from sklearn.model_selection import train_test_split\n",
        "clf = CatBoostClassifier(random_state=42)\n",
        "\n",
        "feat = list(X.columns[:8])\n",
        "\n",
        "train_pool = Pool(X_train[feat], y_train, feature_names=feat)\n",
        "test_pool = Pool(X_test[feat], y_test, feature_names=feat)\n",
        "clf.fit(train_pool,verbose=0)\n",
        "\n",
        "y_pred = clf.predict_proba(X_test)[:, 1]\n",
        "y_pred_metki =  clf.predict( X_test)\n",
        "precision, recall, f1, _ = precision_recall_fscore_support(y_test, y_pred_metki, average='macro')\n",
        "roc = roc_auc_score(y_test, y_pred)\n",
        "print(\"AUC_ROC----\"+str(roc))\n",
        "print(\"F1-score-----\"+str(f1))\n",
        "print(\"Precision-----\"+str(precision))\n",
        "print(\"Recall-----\"+str(recall))"
      ]
    },
    {
      "cell_type": "code",
      "execution_count": 22,
      "metadata": {
        "id": "60ZY-O4L6D-L"
      },
      "outputs": [],
      "source": [
        "n_feature = 50\n",
        "iter=0"
      ]
    },
    {
      "cell_type": "code",
      "execution_count": 23,
      "metadata": {
        "colab": {
          "base_uri": "https://localhost:8080/",
          "height": 397
        },
        "id": "4DZDoEXjbJBP",
        "outputId": "eb909d3b-ad22-4221-9397-3acede048d51"
      },
      "outputs": [
        {
          "output_type": "stream",
          "name": "stdout",
          "text": [
            "_____Iter_0_____\n"
          ]
        },
        {
          "output_type": "error",
          "ename": "CatBoostError",
          "evalue": "ignored",
          "traceback": [
            "\u001b[0;31m---------------------------------------------------------------------------\u001b[0m",
            "\u001b[0;31mCatBoostError\u001b[0m                             Traceback (most recent call last)",
            "\u001b[0;32m<ipython-input-23-9c354e9bc49b>\u001b[0m in \u001b[0;36m<cell line: 6>\u001b[0;34m()\u001b[0m\n\u001b[1;32m     10\u001b[0m   \u001b[0;31m# current_feat = []\u001b[0m\u001b[0;34m\u001b[0m\u001b[0;34m\u001b[0m\u001b[0m\n\u001b[1;32m     11\u001b[0m   \u001b[0mclf\u001b[0m \u001b[0;34m=\u001b[0m \u001b[0mCatBoostClassifier\u001b[0m\u001b[0;34m(\u001b[0m\u001b[0mrandom_state\u001b[0m\u001b[0;34m=\u001b[0m\u001b[0;36m42\u001b[0m\u001b[0;34m)\u001b[0m\u001b[0;34m\u001b[0m\u001b[0;34m\u001b[0m\u001b[0m\n\u001b[0;32m---> 12\u001b[0;31m   \u001b[0mtrain_pool\u001b[0m \u001b[0;34m=\u001b[0m \u001b[0mPool\u001b[0m\u001b[0;34m(\u001b[0m\u001b[0mX_train\u001b[0m\u001b[0;34m,\u001b[0m \u001b[0my_train\u001b[0m\u001b[0;34m,\u001b[0m \u001b[0mfeature_names\u001b[0m\u001b[0;34m=\u001b[0m\u001b[0mfeatures_for_selection\u001b[0m\u001b[0;34m)\u001b[0m\u001b[0;34m\u001b[0m\u001b[0;34m\u001b[0m\u001b[0m\n\u001b[0m\u001b[1;32m     13\u001b[0m   \u001b[0mtest_pool\u001b[0m \u001b[0;34m=\u001b[0m \u001b[0mPool\u001b[0m\u001b[0;34m(\u001b[0m\u001b[0mX_val\u001b[0m\u001b[0;34m,\u001b[0m \u001b[0my_val\u001b[0m\u001b[0;34m,\u001b[0m \u001b[0mfeature_names\u001b[0m\u001b[0;34m=\u001b[0m\u001b[0mfeatures_for_selection\u001b[0m\u001b[0;34m)\u001b[0m\u001b[0;34m\u001b[0m\u001b[0;34m\u001b[0m\u001b[0m\n\u001b[1;32m     14\u001b[0m   summary = clf.select_features(\n",
            "\u001b[0;32m/usr/local/lib/python3.10/dist-packages/catboost/core.py\u001b[0m in \u001b[0;36m__init__\u001b[0;34m(self, data, label, cat_features, text_features, embedding_features, embedding_features_data, column_description, pairs, delimiter, has_header, ignore_csv_quoting, weight, group_id, group_weight, subgroup_id, pairs_weight, baseline, timestamp, feature_names, feature_tags, thread_count, log_cout, log_cerr)\u001b[0m\n\u001b[1;32m    790\u001b[0m                     )\n\u001b[1;32m    791\u001b[0m \u001b[0;34m\u001b[0m\u001b[0m\n\u001b[0;32m--> 792\u001b[0;31m                 self._init(data, label, cat_features, text_features, embedding_features, embedding_features_data, pairs, weight,\n\u001b[0m\u001b[1;32m    793\u001b[0m                            group_id, group_weight, subgroup_id, pairs_weight, baseline, timestamp, feature_names, feature_tags, thread_count)\n\u001b[1;32m    794\u001b[0m         \u001b[0msuper\u001b[0m\u001b[0;34m(\u001b[0m\u001b[0mPool\u001b[0m\u001b[0;34m,\u001b[0m \u001b[0mself\u001b[0m\u001b[0;34m)\u001b[0m\u001b[0;34m.\u001b[0m\u001b[0m__init__\u001b[0m\u001b[0;34m(\u001b[0m\u001b[0;34m)\u001b[0m\u001b[0;34m\u001b[0m\u001b[0;34m\u001b[0m\u001b[0m\n",
            "\u001b[0;32m/usr/local/lib/python3.10/dist-packages/catboost/core.py\u001b[0m in \u001b[0;36m_init\u001b[0;34m(self, data, label, cat_features, text_features, embedding_features, embedding_features_data, pairs, weight, group_id, group_weight, subgroup_id, pairs_weight, baseline, timestamp, feature_names, feature_tags, thread_count)\u001b[0m\n\u001b[1;32m   1367\u001b[0m             \u001b[0mself\u001b[0m\u001b[0;34m.\u001b[0m\u001b[0m_check_label_shape\u001b[0m\u001b[0;34m(\u001b[0m\u001b[0mlabel\u001b[0m\u001b[0;34m,\u001b[0m \u001b[0msamples_count\u001b[0m\u001b[0;34m)\u001b[0m\u001b[0;34m\u001b[0m\u001b[0;34m\u001b[0m\u001b[0m\n\u001b[1;32m   1368\u001b[0m         \u001b[0;32mif\u001b[0m \u001b[0mfeature_names\u001b[0m \u001b[0;32mis\u001b[0m \u001b[0;32mnot\u001b[0m \u001b[0;32mNone\u001b[0m\u001b[0;34m:\u001b[0m\u001b[0;34m\u001b[0m\u001b[0;34m\u001b[0m\u001b[0m\n\u001b[0;32m-> 1369\u001b[0;31m             \u001b[0mself\u001b[0m\u001b[0;34m.\u001b[0m\u001b[0m_check_feature_names\u001b[0m\u001b[0;34m(\u001b[0m\u001b[0mfeature_names\u001b[0m\u001b[0;34m,\u001b[0m \u001b[0mfeatures_count\u001b[0m\u001b[0;34m)\u001b[0m\u001b[0;34m\u001b[0m\u001b[0;34m\u001b[0m\u001b[0m\n\u001b[0m\u001b[1;32m   1370\u001b[0m         \u001b[0;32mif\u001b[0m \u001b[0mcat_features\u001b[0m \u001b[0;32mis\u001b[0m \u001b[0;32mnot\u001b[0m \u001b[0;32mNone\u001b[0m\u001b[0;34m:\u001b[0m\u001b[0;34m\u001b[0m\u001b[0;34m\u001b[0m\u001b[0m\n\u001b[1;32m   1371\u001b[0m             \u001b[0mcat_features\u001b[0m \u001b[0;34m=\u001b[0m \u001b[0m_get_features_indices\u001b[0m\u001b[0;34m(\u001b[0m\u001b[0mcat_features\u001b[0m\u001b[0;34m,\u001b[0m \u001b[0mfeature_names\u001b[0m\u001b[0;34m)\u001b[0m\u001b[0;34m\u001b[0m\u001b[0;34m\u001b[0m\u001b[0m\n",
            "\u001b[0;32m/usr/local/lib/python3.10/dist-packages/catboost/core.py\u001b[0m in \u001b[0;36m_check_feature_names\u001b[0;34m(self, feature_names, num_col)\u001b[0m\n\u001b[1;32m   1040\u001b[0m             \u001b[0;32mraise\u001b[0m \u001b[0mCatBoostError\u001b[0m\u001b[0;34m(\u001b[0m\u001b[0;34m\"Invalid feature_names type={} : must be list\"\u001b[0m\u001b[0;34m.\u001b[0m\u001b[0mformat\u001b[0m\u001b[0;34m(\u001b[0m\u001b[0mtype\u001b[0m\u001b[0;34m(\u001b[0m\u001b[0mfeature_names\u001b[0m\u001b[0;34m)\u001b[0m\u001b[0;34m)\u001b[0m\u001b[0;34m)\u001b[0m\u001b[0;34m\u001b[0m\u001b[0;34m\u001b[0m\u001b[0m\n\u001b[1;32m   1041\u001b[0m         \u001b[0;32mif\u001b[0m \u001b[0mlen\u001b[0m\u001b[0;34m(\u001b[0m\u001b[0mfeature_names\u001b[0m\u001b[0;34m)\u001b[0m \u001b[0;34m!=\u001b[0m \u001b[0mnum_col\u001b[0m\u001b[0;34m:\u001b[0m\u001b[0;34m\u001b[0m\u001b[0;34m\u001b[0m\u001b[0m\n\u001b[0;32m-> 1042\u001b[0;31m             \u001b[0;32mraise\u001b[0m \u001b[0mCatBoostError\u001b[0m\u001b[0;34m(\u001b[0m\u001b[0;34m\"Invalid length of feature_names={} : must be equal to the number of columns in data={}\"\u001b[0m\u001b[0;34m.\u001b[0m\u001b[0mformat\u001b[0m\u001b[0;34m(\u001b[0m\u001b[0mlen\u001b[0m\u001b[0;34m(\u001b[0m\u001b[0mfeature_names\u001b[0m\u001b[0;34m)\u001b[0m\u001b[0;34m,\u001b[0m \u001b[0mnum_col\u001b[0m\u001b[0;34m)\u001b[0m\u001b[0;34m)\u001b[0m\u001b[0;34m\u001b[0m\u001b[0;34m\u001b[0m\u001b[0m\n\u001b[0m\u001b[1;32m   1043\u001b[0m \u001b[0;34m\u001b[0m\u001b[0m\n\u001b[1;32m   1044\u001b[0m     \u001b[0;32mdef\u001b[0m \u001b[0m_check_thread_count\u001b[0m\u001b[0;34m(\u001b[0m\u001b[0mself\u001b[0m\u001b[0;34m,\u001b[0m \u001b[0mthread_count\u001b[0m\u001b[0;34m)\u001b[0m\u001b[0;34m:\u001b[0m\u001b[0;34m\u001b[0m\u001b[0;34m\u001b[0m\u001b[0m\n",
            "\u001b[0;31mCatBoostError\u001b[0m: Invalid length of feature_names=695 : must be equal to the number of columns in data=703"
          ]
        }
      ],
      "source": [
        "scores = []\n",
        "best_f1 = 0\n",
        "columns_on_with_best_score=[]\n",
        "scores = []\n",
        "count=1\n",
        "for i in range(n_feature):\n",
        "  print('_'*5+f'Iter_{i}'+'_'*5)\n",
        "  # features_for_selection = list(X.columns[8::])\n",
        "  # current_feat = list(X.columns[:8])\n",
        "  current_feat = []\n",
        "  clf = CatBoostClassifier(random_state=42)\n",
        "  train_pool = Pool(X_train, y_train, feature_names=list(X.columns))\n",
        "  test_pool = Pool(X_val, y_val, feature_names=list(X.columns))\n",
        "  summary = clf.select_features(\n",
        "      train_pool,\n",
        "      eval_set=test_pool,\n",
        "      features_for_select=list(X.columns),\n",
        "      num_features_to_select=count,\n",
        "      steps=12,\n",
        "      algorithm=EFeaturesSelectionAlgorithm.RecursiveByShapValues,\n",
        "      shap_calc_type=EShapCalcType.Regular,\n",
        "      train_final_model=False,\n",
        "      logging_level='Silent',\n",
        "      plot=False\n",
        "  )\n",
        "  for b in list(summary['selected_features_names']):\n",
        "    # features_for_selection.remove(b)\n",
        "    current_feat.append(b)\n",
        "\n",
        "  count+=1\n",
        "\n",
        "  train_pool = Pool(X_train[current_feat], y_train, feature_names=current_feat)\n",
        "  test_pool = Pool(X_test[current_feat], y_test, feature_names=current_feat)\n",
        "  clf.fit(train_pool,verbose=0)\n",
        "\n",
        "  y_pred = clf.predict_proba(X_test)[:, 1]\n",
        "  y_pred_metki =  clf.predict(X_test)\n",
        "  precision, recall, f1, _ = precision_recall_fscore_support(y_test, y_pred_metki, average='macro')\n",
        "  roc = roc_auc_score(y_test, y_pred)\n",
        "  scores.append(f1)\n",
        "  print(len(current_feat),current_feat)\n",
        "  print(\"AUC_ROC----\"+str(roc))\n",
        "  print(\"F1-score-----\"+str(f1))\n",
        "  print(\"Precision-----\"+str(precision))\n",
        "  print(\"Recall-----\"+str(recall))\n",
        "  if f1>best_f1:\n",
        "    best_f1 = f1\n",
        "    columns_on_with_best_score = current_feat\n",
        "    iter = i\n",
        "  # print(\"F1-score-----\"+str(f1))\n"
      ]
    },
    {
      "cell_type": "code",
      "source": [
        "scores = []\n",
        "best_f1 = 0\n",
        "columns_on_with_best_score=[]\n",
        "scores = []\n",
        "count=1\n",
        "for i in range(n_feature):\n",
        "  print('_'*5+f'Iter_{i}'+'_'*5)\n",
        "  features_for_selection = list(X.columns[8::])\n",
        "  current_feat = list(X.columns[:8])\n",
        "  # current_feat = []\n",
        "  clf = CatBoostClassifier(random_state=42)\n",
        "  train_pool = Pool(X_train, y_train, feature_names=features_for_selection)\n",
        "  test_pool = Pool(X_val, y_val, feature_names=features_for_selection)\n",
        "  summary = clf.select_features(\n",
        "      train_pool,\n",
        "      eval_set=test_pool,\n",
        "      features_for_select=list(X.columns),\n",
        "      num_features_to_select=count,\n",
        "      steps=12,\n",
        "      algorithm=EFeaturesSelectionAlgorithm.RecursiveByShapValues,\n",
        "      shap_calc_type=EShapCalcType.Regular,\n",
        "      train_final_model=False,\n",
        "      logging_level='Silent',\n",
        "      plot=False\n",
        "  )\n",
        "  for b in list(summary['selected_features_names']):\n",
        "    # features_for_selection.remove(b)\n",
        "    current_feat.append(b)\n",
        "\n",
        "  count+=1\n",
        "\n",
        "  train_pool = Pool(X_train[current_feat], y_train, feature_names=current_feat)\n",
        "  test_pool = Pool(X_test[current_feat], y_test, feature_names=current_feat)\n",
        "  clf.fit(train_pool,verbose=0)\n",
        "\n",
        "  y_pred = clf.predict_proba(X_test)[:, 1]\n",
        "  y_pred_metki =  clf.predict(X_test)\n",
        "  precision, recall, f1, _ = precision_recall_fscore_support(y_test, y_pred_metki, average='macro')\n",
        "  roc = roc_auc_score(y_test, y_pred)\n",
        "  scores.append(f1)\n",
        "  print(len(current_feat),current_feat)\n",
        "  print(\"AUC_ROC----\"+str(roc))\n",
        "  print(\"F1-score-----\"+str(f1))\n",
        "  print(\"Precision-----\"+str(precision))\n",
        "  print(\"Recall-----\"+str(recall))\n",
        "  if f1>best_f1:\n",
        "    best_f1 = f1\n",
        "    columns_on_with_best_score = current_feat\n",
        "    iter = i\n",
        "  # print(\"F1-score-----\"+str(f1))\n"
      ],
      "metadata": {
        "id": "o9gAkGzZuJXc"
      },
      "execution_count": null,
      "outputs": []
    },
    {
      "cell_type": "code",
      "execution_count": null,
      "metadata": {
        "colab": {
          "base_uri": "https://localhost:8080/",
          "height": 497
        },
        "id": "dxfJBzN3mG7v",
        "outputId": "59ed49ee-e862-443d-9c6b-98382e622e8b"
      },
      "outputs": [
        {
          "data": {
            "image/png": "[encoded data removed]",
            "text/plain": [
              "<Figure size 2000x500 with 1 Axes>"
            ]
          },
          "metadata": {},
          "output_type": "display_data"
        }
      ],
      "source": [
        "# PLOT THRESHOLD VS. F1_SCORE\n",
        "plt.figure(figsize=(20,5))\n",
        "plt.plot(scores,'-o',color='blue')\n",
        "plt.scatter([iter],[best_f1], color='blue', s=300, alpha=1)\n",
        "plt.xlabel('Threshold',size=14)\n",
        "plt.ylabel('Validation F1 Score',size=14)\n",
        "plt.title(f'Best F1_Score = {best_f1:.3f} with {len(columns_on_with_best_score)} features',size=18)\n",
        "plt.show()"
      ]
    },
    {
      "cell_type": "code",
      "execution_count": null,
      "metadata": {
        "id": "ej9o9USSBIEM"
      },
      "outputs": [],
      "source": [
        "X_train, X_test, y_train, y_test = train_test_split(X, y, test_size=0.2, random_state=42,stratify=y)"
      ]
    },
    {
      "cell_type": "code",
      "execution_count": null,
      "metadata": {
        "id": "dah2T8Tf_J8O"
      },
      "outputs": [],
      "source": [
        "from sklearn.ensemble import RandomForestClassifier\n",
        "from boruta import BorutaPy\n",
        "rfc = RandomForestClassifier(n_estimators=1000, n_jobs=-1, class_weight='balanced')\n",
        "boruta_selector = BorutaPy(rfc, n_estimators='auto', verbose=2)\n",
        "boruta_selector.fit(X_train.values,y_train.values)"
      ]
    },
    {
      "cell_type": "code",
      "execution_count": null,
      "metadata": {
        "colab": {
          "base_uri": "https://localhost:8080/",
          "height": 200
        },
        "id": "SiHUTiuYPFC2",
        "outputId": "5a23961f-94e6-4824-92eb-24f409c8c90e"
      },
      "outputs": [
        {
          "name": "stdout",
          "output_type": "stream",
          "text": [
            "==============BORUTA=============\n"
          ]
        },
        {
          "ename": "IndexError",
          "evalue": "ignored",
          "output_type": "error",
          "traceback": [
            "\u001b[0;31m---------------------------------------------------------------------------\u001b[0m",
            "\u001b[0;31mIndexError\u001b[0m                                Traceback (most recent call last)",
            "\u001b[0;32m<ipython-input-98-527660463358>\u001b[0m in \u001b[0;36m<cell line: 2>\u001b[0;34m()\u001b[0m\n\u001b[1;32m      1\u001b[0m \u001b[0mprint\u001b[0m\u001b[0;34m(\u001b[0m\u001b[0;34m'==============BORUTA============='\u001b[0m\u001b[0;34m)\u001b[0m\u001b[0;34m\u001b[0m\u001b[0;34m\u001b[0m\u001b[0m\n\u001b[0;32m----> 2\u001b[0;31m \u001b[0mnp\u001b[0m\u001b[0;34m.\u001b[0m\u001b[0marray\u001b[0m\u001b[0;34m(\u001b[0m\u001b[0mX_train\u001b[0m\u001b[0;34m.\u001b[0m\u001b[0mcolumns\u001b[0m\u001b[0;34m[\u001b[0m\u001b[0;34m:\u001b[0m\u001b[0;34m-\u001b[0m\u001b[0;36m1\u001b[0m\u001b[0;34m]\u001b[0m\u001b[0;34m)\u001b[0m\u001b[0;34m[\u001b[0m\u001b[0mboruta_selector\u001b[0m\u001b[0;34m.\u001b[0m\u001b[0msupport_\u001b[0m\u001b[0;34m]\u001b[0m\u001b[0;34m.\u001b[0m\u001b[0mtolist\u001b[0m\u001b[0;34m(\u001b[0m\u001b[0;34m)\u001b[0m\u001b[0;34m\u001b[0m\u001b[0;34m\u001b[0m\u001b[0m\n\u001b[0m",
            "\u001b[0;31mIndexError\u001b[0m: boolean index did not match indexed array along dimension 0; dimension is 702 but corresponding boolean dimension is 703"
          ]
        }
      ],
      "source": [
        "print('==============BORUTA=============')\n",
        "np.array(X_train.columns[:-1])[boruta_selector.support_].tolist()"
      ]
    },
    {
      "cell_type": "code",
      "execution_count": null,
      "metadata": {
        "colab": {
          "base_uri": "https://localhost:8080/"
        },
        "id": "mHELQHF0Y2WA",
        "outputId": "4bbbe74c-1dbb-432c-db20-3b9351d61860"
      },
      "outputs": [
        {
          "data": {
            "text/plain": [
              "Index(['f2_by_id3_median', 'sum_f3_f6', 'subtraction_f1_f2', 'division_f1_f2',\n",
              "       'division_f2_f1', 'division_f3_f5', 'division_f6_by_id3_sum_f4',\n",
              "       'division_f7_f5', 'division_f7_f8', 'division_f7_f3_by_id3_sum',\n",
              "       'division_f7_f5_by_id3_sum', 'division_f1_by_id3_sum_f2_by_id3_sum',\n",
              "       'multiplication_f3_f6'],\n",
              "      dtype='object')"
            ]
          },
          "execution_count": 114,
          "metadata": {},
          "output_type": "execute_result"
        }
      ],
      "source": [
        "X_train.columns[boruta_selector.support_]"
      ]
    },
    {
      "cell_type": "code",
      "execution_count": null,
      "metadata": {
        "id": "0UKap_PrTYMf"
      },
      "outputs": [],
      "source": [
        "# Select the chosen features from our dataframe.\n",
        "selected = list(X_train.columns[boruta_selector.support_])"
      ]
    },
    {
      "cell_type": "code",
      "execution_count": null,
      "metadata": {
        "colab": {
          "base_uri": "https://localhost:8080/"
        },
        "id": "mKpza83iafI-",
        "outputId": "9db75850-8e4b-4485-83c9-e1e8c3dcd591"
      },
      "outputs": [
        {
          "data": {
            "text/plain": [
              "['f2_by_id3_median',\n",
              " 'sum_f3_f6',\n",
              " 'subtraction_f1_f2',\n",
              " 'division_f1_f2',\n",
              " 'division_f2_f1',\n",
              " 'division_f3_f5',\n",
              " 'division_f6_by_id3_sum_f4',\n",
              " 'division_f7_f5',\n",
              " 'division_f7_f8',\n",
              " 'division_f7_f3_by_id3_sum',\n",
              " 'division_f7_f5_by_id3_sum',\n",
              " 'division_f1_by_id3_sum_f2_by_id3_sum',\n",
              " 'multiplication_f3_f6']"
            ]
          },
          "execution_count": 120,
          "metadata": {},
          "output_type": "execute_result"
        }
      ],
      "source": [
        "selected"
      ]
    },
    {
      "cell_type": "code",
      "execution_count": null,
      "metadata": {
        "id": "chqze9sWax3v"
      },
      "outputs": [],
      "source": [
        "X_test"
      ]
    },
    {
      "cell_type": "code",
      "execution_count": null,
      "metadata": {
        "colab": {
          "base_uri": "https://localhost:8080/",
          "height": 488
        },
        "id": "p-Hxps64bAdS",
        "outputId": "1b89f018-89f8-4c41-ba2e-a18f3ddffa1c"
      },
      "outputs": [
        {
          "data": {
            "text/html": [
              "\n",
              "  <div id=\"df-832bc3f2-81e2-4d7a-9448-4e99b9ad0a44\">\n",
              "    <div class=\"colab-df-container\">\n",
              "      <div>\n",
              "<style scoped>\n",
              "    .dataframe tbody tr th:only-of-type {\n",
              "        vertical-align: middle;\n",
              "    }\n",
              "\n",
              "    .dataframe tbody tr th {\n",
              "        vertical-align: top;\n",
              "    }\n",
              "\n",
              "    .dataframe thead th {\n",
              "        text-align: right;\n",
              "    }\n",
              "</style>\n",
              "<table border=\"1\" class=\"dataframe\">\n",
              "  <thead>\n",
              "    <tr style=\"text-align: right;\">\n",
              "      <th></th>\n",
              "      <th>f2_by_id3_median</th>\n",
              "      <th>sum_f3_f6</th>\n",
              "      <th>subtraction_f1_f2</th>\n",
              "      <th>division_f1_f2</th>\n",
              "      <th>division_f2_f1</th>\n",
              "      <th>division_f3_f5</th>\n",
              "      <th>division_f6_by_id3_sum_f4</th>\n",
              "      <th>division_f7_f5</th>\n",
              "      <th>division_f7_f8</th>\n",
              "      <th>division_f7_f3_by_id3_sum</th>\n",
              "      <th>division_f7_f5_by_id3_sum</th>\n",
              "      <th>division_f1_by_id3_sum_f2_by_id3_sum</th>\n",
              "      <th>multiplication_f3_f6</th>\n",
              "    </tr>\n",
              "  </thead>\n",
              "  <tbody>\n",
              "    <tr>\n",
              "      <th>398</th>\n",
              "      <td>2.00</td>\n",
              "      <td>10.00</td>\n",
              "      <td>0</td>\n",
              "      <td>1.00</td>\n",
              "      <td>1.00</td>\n",
              "      <td>1.67</td>\n",
              "      <td>29.76</td>\n",
              "      <td>2.33</td>\n",
              "      <td>0.58</td>\n",
              "      <td>0.02</td>\n",
              "      <td>0.00</td>\n",
              "      <td>1.87</td>\n",
              "      <td>25.00</td>\n",
              "    </tr>\n",
              "    <tr>\n",
              "      <th>1243</th>\n",
              "      <td>1.00</td>\n",
              "      <td>8.67</td>\n",
              "      <td>0</td>\n",
              "      <td>1.00</td>\n",
              "      <td>1.00</td>\n",
              "      <td>0.67</td>\n",
              "      <td>1.39</td>\n",
              "      <td>0.43</td>\n",
              "      <td>0.50</td>\n",
              "      <td>0.45</td>\n",
              "      <td>0.10</td>\n",
              "      <td>1.00</td>\n",
              "      <td>18.67</td>\n",
              "    </tr>\n",
              "    <tr>\n",
              "      <th>367</th>\n",
              "      <td>2.00</td>\n",
              "      <td>9.55</td>\n",
              "      <td>0</td>\n",
              "      <td>1.00</td>\n",
              "      <td>1.00</td>\n",
              "      <td>0.00</td>\n",
              "      <td>0.02</td>\n",
              "      <td>0.00</td>\n",
              "      <td>0.41</td>\n",
              "      <td>0.03</td>\n",
              "      <td>0.00</td>\n",
              "      <td>1.05</td>\n",
              "      <td>22.76</td>\n",
              "    </tr>\n",
              "    <tr>\n",
              "      <th>117</th>\n",
              "      <td>3.50</td>\n",
              "      <td>10.00</td>\n",
              "      <td>0</td>\n",
              "      <td>1.00</td>\n",
              "      <td>1.00</td>\n",
              "      <td>5.00</td>\n",
              "      <td>4.38</td>\n",
              "      <td>22.00</td>\n",
              "      <td>0.96</td>\n",
              "      <td>2.26</td>\n",
              "      <td>1.29</td>\n",
              "      <td>1.00</td>\n",
              "      <td>25.00</td>\n",
              "    </tr>\n",
              "    <tr>\n",
              "      <th>1001</th>\n",
              "      <td>2.00</td>\n",
              "      <td>9.21</td>\n",
              "      <td>0</td>\n",
              "      <td>1.00</td>\n",
              "      <td>1.00</td>\n",
              "      <td>0.00</td>\n",
              "      <td>2.78</td>\n",
              "      <td>0.00</td>\n",
              "      <td>0.17</td>\n",
              "      <td>0.03</td>\n",
              "      <td>0.01</td>\n",
              "      <td>1.04</td>\n",
              "      <td>21.07</td>\n",
              "    </tr>\n",
              "    <tr>\n",
              "      <th>...</th>\n",
              "      <td>...</td>\n",
              "      <td>...</td>\n",
              "      <td>...</td>\n",
              "      <td>...</td>\n",
              "      <td>...</td>\n",
              "      <td>...</td>\n",
              "      <td>...</td>\n",
              "      <td>...</td>\n",
              "      <td>...</td>\n",
              "      <td>...</td>\n",
              "      <td>...</td>\n",
              "      <td>...</td>\n",
              "      <td>...</td>\n",
              "    </tr>\n",
              "    <tr>\n",
              "      <th>1569</th>\n",
              "      <td>1.00</td>\n",
              "      <td>5.14</td>\n",
              "      <td>0</td>\n",
              "      <td>1.00</td>\n",
              "      <td>1.00</td>\n",
              "      <td>0.02</td>\n",
              "      <td>0.01</td>\n",
              "      <td>0.13</td>\n",
              "      <td>0.80</td>\n",
              "      <td>8.00</td>\n",
              "      <td>0.13</td>\n",
              "      <td>1.00</td>\n",
              "      <td>4.14</td>\n",
              "    </tr>\n",
              "    <tr>\n",
              "      <th>2304</th>\n",
              "      <td>14.00</td>\n",
              "      <td>8.45</td>\n",
              "      <td>0</td>\n",
              "      <td>1.00</td>\n",
              "      <td>1.00</td>\n",
              "      <td>0.07</td>\n",
              "      <td>0.17</td>\n",
              "      <td>0.49</td>\n",
              "      <td>0.71</td>\n",
              "      <td>1.96</td>\n",
              "      <td>0.14</td>\n",
              "      <td>1.07</td>\n",
              "      <td>17.55</td>\n",
              "    </tr>\n",
              "    <tr>\n",
              "      <th>505</th>\n",
              "      <td>3.00</td>\n",
              "      <td>9.21</td>\n",
              "      <td>1</td>\n",
              "      <td>1.04</td>\n",
              "      <td>0.96</td>\n",
              "      <td>0.01</td>\n",
              "      <td>0.10</td>\n",
              "      <td>0.05</td>\n",
              "      <td>0.84</td>\n",
              "      <td>0.16</td>\n",
              "      <td>0.00</td>\n",
              "      <td>1.09</td>\n",
              "      <td>21.18</td>\n",
              "    </tr>\n",
              "    <tr>\n",
              "      <th>2783</th>\n",
              "      <td>2.00</td>\n",
              "      <td>2.23</td>\n",
              "      <td>0</td>\n",
              "      <td>1.00</td>\n",
              "      <td>1.00</td>\n",
              "      <td>0.25</td>\n",
              "      <td>32.05</td>\n",
              "      <td>1.50</td>\n",
              "      <td>0.67</td>\n",
              "      <td>0.02</td>\n",
              "      <td>0.00</td>\n",
              "      <td>1.87</td>\n",
              "      <td>1.23</td>\n",
              "    </tr>\n",
              "    <tr>\n",
              "      <th>647</th>\n",
              "      <td>16.00</td>\n",
              "      <td>8.69</td>\n",
              "      <td>0</td>\n",
              "      <td>1.00</td>\n",
              "      <td>1.00</td>\n",
              "      <td>0.04</td>\n",
              "      <td>0.10</td>\n",
              "      <td>0.58</td>\n",
              "      <td>0.50</td>\n",
              "      <td>3.97</td>\n",
              "      <td>0.16</td>\n",
              "      <td>1.02</td>\n",
              "      <td>18.89</td>\n",
              "    </tr>\n",
              "  </tbody>\n",
              "</table>\n",
              "<p>2497 rows × 13 columns</p>\n",
              "</div>\n",
              "      <button class=\"colab-df-convert\" onclick=\"convertToInteractive('df-832bc3f2-81e2-4d7a-9448-4e99b9ad0a44')\"\n",
              "              title=\"Convert this dataframe to an interactive table.\"\n",
              "              style=\"display:none;\">\n",
              "        \n",
              "  <svg xmlns=\"http://www.w3.org/2000/svg\" height=\"24px\"viewBox=\"0 0 24 24\"\n",
              "       width=\"24px\">\n",
              "    <path d=\"M0 0h24v24H0V0z\" fill=\"none\"/>\n",
              "    <path d=\"M18.56 5.44l.94 2.06.94-2.06 2.06-.94-2.06-.94-.94-2.06-.94 2.06-2.06.94zm-11 1L8.5 8.5l.94-2.06 2.06-.94-2.06-.94L8.5 2.5l-.94 2.06-2.06.94zm10 10l.94 2.06.94-2.06 2.06-.94-2.06-.94-.94-2.06-.94 2.06-2.06.94z\"/><path d=\"M17.41 7.96l-1.37-1.37c-.4-.4-.92-.59-1.43-.59-.52 0-1.04.2-1.43.59L10.3 9.45l-7.72 7.72c-.78.78-.78 2.05 0 2.83L4 21.41c.39.39.9.59 1.41.59.51 0 1.02-.2 1.41-.59l7.78-7.78 2.81-2.81c.8-.78.8-2.07 0-2.86zM5.41 20L4 18.59l7.72-7.72 1.47 1.35L5.41 20z\"/>\n",
              "  </svg>\n",
              "      </button>\n",
              "      \n",
              "  <style>\n",
              "    .colab-df-container {\n",
              "      display:flex;\n",
              "      flex-wrap:wrap;\n",
              "      gap: 12px;\n",
              "    }\n",
              "\n",
              "    .colab-df-convert {\n",
              "      background-color: #E8F0FE;\n",
              "      border: none;\n",
              "      border-radius: 50%;\n",
              "      cursor: pointer;\n",
              "      display: none;\n",
              "      fill: #1967D2;\n",
              "      height: 32px;\n",
              "      padding: 0 0 0 0;\n",
              "      width: 32px;\n",
              "    }\n",
              "\n",
              "    .colab-df-convert:hover {\n",
              "      background-color: #E2EBFA;\n",
              "      box-shadow: 0px 1px 2px rgba(60, 64, 67, 0.3), 0px 1px 3px 1px rgba(60, 64, 67, 0.15);\n",
              "      fill: #174EA6;\n",
              "    }\n",
              "\n",
              "    [theme=dark] .colab-df-convert {\n",
              "      background-color: #3B4455;\n",
              "      fill: #D2E3FC;\n",
              "    }\n",
              "\n",
              "    [theme=dark] .colab-df-convert:hover {\n",
              "      background-color: #434B5C;\n",
              "      box-shadow: 0px 1px 3px 1px rgba(0, 0, 0, 0.15);\n",
              "      filter: drop-shadow(0px 1px 2px rgba(0, 0, 0, 0.3));\n",
              "      fill: #FFFFFF;\n",
              "    }\n",
              "  </style>\n",
              "\n",
              "      <script>\n",
              "        const buttonEl =\n",
              "          document.querySelector('#df-832bc3f2-81e2-4d7a-9448-4e99b9ad0a44 button.colab-df-convert');\n",
              "        buttonEl.style.display =\n",
              "          google.colab.kernel.accessAllowed ? 'block' : 'none';\n",
              "\n",
              "        async function convertToInteractive(key) {\n",
              "          const element = document.querySelector('#df-832bc3f2-81e2-4d7a-9448-4e99b9ad0a44');\n",
              "          const dataTable =\n",
              "            await google.colab.kernel.invokeFunction('convertToInteractive',\n",
              "                                                     [key], {});\n",
              "          if (!dataTable) return;\n",
              "\n",
              "          const docLinkHtml = 'Like what you see? Visit the ' +\n",
              "            '<a target=\"_blank\" href=https://colab.research.google.com/notebooks/data_table.ipynb>data table notebook</a>'\n",
              "            + ' to learn more about interactive tables.';\n",
              "          element.innerHTML = '';\n",
              "          dataTable['output_type'] = 'display_data';\n",
              "          await google.colab.output.renderOutput(dataTable, element);\n",
              "          const docLink = document.createElement('div');\n",
              "          docLink.innerHTML = docLinkHtml;\n",
              "          element.appendChild(docLink);\n",
              "        }\n",
              "      </script>\n",
              "    </div>\n",
              "  </div>\n",
              "  "
            ],
            "text/plain": [
              "      f2_by_id3_median  sum_f3_f6  subtraction_f1_f2  division_f1_f2  \\\n",
              "398               2.00      10.00                  0            1.00   \n",
              "1243              1.00       8.67                  0            1.00   \n",
              "367               2.00       9.55                  0            1.00   \n",
              "117               3.50      10.00                  0            1.00   \n",
              "1001              2.00       9.21                  0            1.00   \n",
              "...                ...        ...                ...             ...   \n",
              "1569              1.00       5.14                  0            1.00   \n",
              "2304             14.00       8.45                  0            1.00   \n",
              "505               3.00       9.21                  1            1.04   \n",
              "2783              2.00       2.23                  0            1.00   \n",
              "647              16.00       8.69                  0            1.00   \n",
              "\n",
              "      division_f2_f1  division_f3_f5  division_f6_by_id3_sum_f4  \\\n",
              "398             1.00            1.67                      29.76   \n",
              "1243            1.00            0.67                       1.39   \n",
              "367             1.00            0.00                       0.02   \n",
              "117             1.00            5.00                       4.38   \n",
              "1001            1.00            0.00                       2.78   \n",
              "...              ...             ...                        ...   \n",
              "1569            1.00            0.02                       0.01   \n",
              "2304            1.00            0.07                       0.17   \n",
              "505             0.96            0.01                       0.10   \n",
              "2783            1.00            0.25                      32.05   \n",
              "647             1.00            0.04                       0.10   \n",
              "\n",
              "      division_f7_f5  division_f7_f8  division_f7_f3_by_id3_sum  \\\n",
              "398             2.33            0.58                       0.02   \n",
              "1243            0.43            0.50                       0.45   \n",
              "367             0.00            0.41                       0.03   \n",
              "117            22.00            0.96                       2.26   \n",
              "1001            0.00            0.17                       0.03   \n",
              "...              ...             ...                        ...   \n",
              "1569            0.13            0.80                       8.00   \n",
              "2304            0.49            0.71                       1.96   \n",
              "505             0.05            0.84                       0.16   \n",
              "2783            1.50            0.67                       0.02   \n",
              "647             0.58            0.50                       3.97   \n",
              "\n",
              "      division_f7_f5_by_id3_sum  division_f1_by_id3_sum_f2_by_id3_sum  \\\n",
              "398                        0.00                                  1.87   \n",
              "1243                       0.10                                  1.00   \n",
              "367                        0.00                                  1.05   \n",
              "117                        1.29                                  1.00   \n",
              "1001                       0.01                                  1.04   \n",
              "...                         ...                                   ...   \n",
              "1569                       0.13                                  1.00   \n",
              "2304                       0.14                                  1.07   \n",
              "505                        0.00                                  1.09   \n",
              "2783                       0.00                                  1.87   \n",
              "647                        0.16                                  1.02   \n",
              "\n",
              "      multiplication_f3_f6  \n",
              "398                  25.00  \n",
              "1243                 18.67  \n",
              "367                  22.76  \n",
              "117                  25.00  \n",
              "1001                 21.07  \n",
              "...                    ...  \n",
              "1569                  4.14  \n",
              "2304                 17.55  \n",
              "505                  21.18  \n",
              "2783                  1.23  \n",
              "647                  18.89  \n",
              "\n",
              "[2497 rows x 13 columns]"
            ]
          },
          "execution_count": 124,
          "metadata": {},
          "output_type": "execute_result"
        }
      ],
      "source": [
        "X_train[selected]"
      ]
    },
    {
      "cell_type": "code",
      "execution_count": null,
      "metadata": {
        "colab": {
          "base_uri": "https://localhost:8080/"
        },
        "id": "23UbKyDEbMxk",
        "outputId": "8afcbada-5056-46f6-be6e-3936e6796ab6"
      },
      "outputs": [
        {
          "data": {
            "text/plain": [
              "910     0\n",
              "309     1\n",
              "2323    0\n",
              "3003    0\n",
              "1780    1\n",
              "       ..\n",
              "1012    0\n",
              "1477    1\n",
              "1381    0\n",
              "1222    0\n",
              "196     0\n",
              "Name: label, Length: 625, dtype: int64"
            ]
          },
          "execution_count": 126,
          "metadata": {},
          "output_type": "execute_result"
        }
      ],
      "source": [
        "y_test"
      ]
    },
    {
      "cell_type": "code",
      "execution_count": null,
      "metadata": {
        "colab": {
          "base_uri": "https://localhost:8080/"
        },
        "id": "k05FUTY6ZD32",
        "outputId": "2408454b-565b-40ee-a808-fa31b707bb96"
      },
      "outputs": [
        {
          "name": "stdout",
          "output_type": "stream",
          "text": [
            "8 ['f1', 'f2', 'f3', 'f4', 'f5', 'f6', 'f7', 'f8']\n",
            "AUC_ROC----0.7519762845849801\n",
            "F1-score-----0.6664981604740641\n",
            "Precision-----0.7463471525393892\n",
            "Recall-----0.6474967061923583\n"
          ]
        }
      ],
      "source": [
        "clf = CatBoostClassifier(random_state=42)\n",
        "# train_pool = Pool(X_train[selected], y_train, feature_names=selected)\n",
        "# test_pool = Pool(X_test[current_feat], y_test, feature_names=current_feat)\n",
        "clf.fit(X_train[selected],y_train,verbose=0)\n",
        "y_pred = clf.predict_proba(X_test[selected])[:, 1]\n",
        "y_pred_metki =  clf.predict(X_test[selected])\n",
        "precision, recall, f1, _ = precision_recall_fscore_support(y_test, y_pred_metki, average='macro')\n",
        "roc = roc_auc_score(y_test, y_pred)\n",
        "scores.append(f1)\n",
        "print(len(current_feat),current_feat)\n",
        "print(\"AUC_ROC----\"+str(roc))\n",
        "print(\"F1-score-----\"+str(f1))\n",
        "print(\"Precision-----\"+str(precision))\n",
        "print(\"Recall-----\"+str(recall))"
      ]
    },
    {
      "cell_type": "markdown",
      "metadata": {
        "id": "T9Y_y2gc_Kai"
      },
      "source": [
        "#### Not Touch\n"
      ]
    },
    {
      "cell_type": "code",
      "execution_count": null,
      "metadata": {
        "id": "pQMbkrkTmFGE"
      },
      "outputs": [],
      "source": [
        "# X_train, X_test, y_train, y_test = train_test_split(X, y, test_size=0.2, random_state=42,stratify=y)"
      ]
    },
    {
      "cell_type": "code",
      "execution_count": null,
      "metadata": {
        "id": "myqUaDzEulAd"
      },
      "outputs": [],
      "source": [
        "# N_SPLITS = 5"
      ]
    },
    {
      "cell_type": "code",
      "execution_count": null,
      "metadata": {
        "id": "x5inEycM0qVF"
      },
      "outputs": [],
      "source": [
        "# features_for_selection = list(X.columns[8::])\n",
        "# current_feat = list(X.columns[:8])"
      ]
    },
    {
      "cell_type": "code",
      "execution_count": null,
      "metadata": {
        "colab": {
          "base_uri": "https://localhost:8080/",
          "height": 252
        },
        "id": "lA0jkaMpmBX0",
        "outputId": "add3703e-25db-40dd-82b1-eb5c063fbba0"
      },
      "outputs": [
        {
          "name": "stdout",
          "output_type": "stream",
          "text": [
            "_____Iter_0_____\n"
          ]
        },
        {
          "ename": "NameError",
          "evalue": "ignored",
          "output_type": "error",
          "traceback": [
            "\u001b[0;31m---------------------------------------------------------------------------\u001b[0m",
            "\u001b[0;31mNameError\u001b[0m                                 Traceback (most recent call last)",
            "\u001b[0;32m<ipython-input-25-2452f95a6b0f>\u001b[0m in \u001b[0;36m<cell line: 8>\u001b[0;34m()\u001b[0m\n\u001b[1;32m     22\u001b[0m       \u001b[0my_train_сv\u001b[0m\u001b[0;34m,\u001b[0m \u001b[0my_val_сv\u001b[0m \u001b[0;34m=\u001b[0m \u001b[0my_train\u001b[0m\u001b[0;34m.\u001b[0m\u001b[0miloc\u001b[0m\u001b[0;34m[\u001b[0m\u001b[0mtrain_idx\u001b[0m\u001b[0;34m]\u001b[0m\u001b[0;34m,\u001b[0m \u001b[0my_train\u001b[0m\u001b[0;34m.\u001b[0m\u001b[0miloc\u001b[0m\u001b[0;34m[\u001b[0m\u001b[0mtest_idx\u001b[0m\u001b[0;34m]\u001b[0m\u001b[0;34m\u001b[0m\u001b[0;34m\u001b[0m\u001b[0m\n\u001b[1;32m     23\u001b[0m \u001b[0;34m\u001b[0m\u001b[0m\n\u001b[0;32m---> 24\u001b[0;31m       \u001b[0mtrain_pool\u001b[0m \u001b[0;34m=\u001b[0m \u001b[0mPool\u001b[0m\u001b[0;34m(\u001b[0m\u001b[0mX_train\u001b[0m\u001b[0;34m[\u001b[0m\u001b[0mcurrent_feat\u001b[0m\u001b[0;34m]\u001b[0m\u001b[0;34m,\u001b[0m \u001b[0my_train\u001b[0m\u001b[0;34m,\u001b[0m \u001b[0mfeature_names\u001b[0m\u001b[0;34m=\u001b[0m\u001b[0mcurrent_feat\u001b[0m\u001b[0;34m)\u001b[0m\u001b[0;34m\u001b[0m\u001b[0;34m\u001b[0m\u001b[0m\n\u001b[0m\u001b[1;32m     25\u001b[0m       \u001b[0mtest_pool\u001b[0m \u001b[0;34m=\u001b[0m \u001b[0mPool\u001b[0m\u001b[0;34m(\u001b[0m\u001b[0mX_val_сv\u001b[0m\u001b[0;34m[\u001b[0m\u001b[0mcurrent_feat\u001b[0m\u001b[0;34m]\u001b[0m\u001b[0;34m,\u001b[0m \u001b[0my_val_сv\u001b[0m\u001b[0;34m,\u001b[0m \u001b[0mfeature_names\u001b[0m\u001b[0;34m=\u001b[0m\u001b[0mcurrent_feat\u001b[0m\u001b[0;34m)\u001b[0m\u001b[0;34m\u001b[0m\u001b[0;34m\u001b[0m\u001b[0m\n\u001b[1;32m     26\u001b[0m \u001b[0;34m\u001b[0m\u001b[0m\n",
            "\u001b[0;31mNameError\u001b[0m: name 'Pool' is not defined"
          ]
        }
      ],
      "source": [
        "# cv = StratifiedKFold(n_splits=N_SPLITS, shuffle=True, random_state=22)\n",
        "# scores = []\n",
        "# best_f1 = 0\n",
        "# columns_with_best_score=current_feat\n",
        "# scores = []\n",
        "# all_iter_col = []\n",
        "# count=1\n",
        "# for i in range(n_feature):\n",
        "#   print('_'*5+f'Iter_{i}'+'_'*5)\n",
        "#   curr_f1=0\n",
        "#   for feature in range(len(features_for_selection)):\n",
        "#     iter_feat = current_feat\n",
        "#     iter_feat.append(features_for_selection[feature])\n",
        "#     cv_scores_AUC_ROC = np.empty(N_SPLITS)\n",
        "#     cv_scores_f1_score = np.empty(N_SPLITS)\n",
        "#     cv_scores_Precision = np.empty(N_SPLITS)\n",
        "#     cv_scores_Recall = np.empty(N_SPLITS)\n",
        "\n",
        "#     for idx, (train_idx, test_idx) in enumerate(cv.split(X_train, y_train)):\n",
        "\n",
        "#       X_train_сv, X_val_сv = X_train.iloc[train_idx], X_train.iloc[test_idx]\n",
        "#       y_train_сv, y_val_сv = y_train.iloc[train_idx], y_train.iloc[test_idx]\n",
        "\n",
        "#       train_pool = Pool(X_train[current_feat], y_train, feature_names=current_feat)\n",
        "#       test_pool = Pool(X_val_сv[current_feat], y_val_сv, feature_names=current_feat)\n",
        "\n",
        "#       clf = CatBoostClassifier()\n",
        "#       clf.fit(train_pool,\n",
        "#               eval_set=test_pool,\n",
        "#               verbose=0)\n",
        "\n",
        "#       y_pred_metki = clf.predict(X_val_сv)\n",
        "#       y_pred = clf.predict_proba(X_val_сv)[:, 1]\n",
        "#       precision = precision_score(y_val_сv, y_pred_metki)\n",
        "#       recall = recall_score(y_val_сv, y_pred_metki)\n",
        "#       cv_scores_AUC_ROC[idx] = roc_auc_score(y_val_сv, y_pred)\n",
        "#       cv_scores_f1_score[idx] = f1_score(y_val_сv, y_pred_metki,average='macro')\n",
        "#       # print(precision)\n",
        "#       cv_scores_Precision[idx] = precision\n",
        "#       cv_scores_Recall[idx] = recall\n",
        "#     if np.mean(cv_scores_f1_score)>curr_f1:\n",
        "#       curr_f1 = np.mean(cv_scores_f1_score)\n",
        "#       best_column = features_for_selection[feature]\n",
        "\n",
        "#   features_for_selection.remove(best_column)\n",
        "#   current_feat.append(best_column)\n",
        "#   if curr_f1>best_f1:\n",
        "#     best_f1 = curr_f1\n",
        "#     columns_with_best_score = current_feat\n",
        "#     print(columns_with_best_score)\n",
        "#     iter = i\n",
        "#     # iter_feat = current_feat\n",
        "\n",
        "#   scores.append(best_f1)\n",
        "#   # current_feat = columns_with_best_score\n",
        "#   all_iter_col.append(current_feat)\n",
        "\n",
        "#   print(\"AUC_ROC----\"+str(np.mean(cv_scores_AUC_ROC)))\n",
        "#   print(\"F1-score-----\"+str(np.mean(cv_scores_f1_score)))\n",
        "#   print(\"Precision-----\"+str(np.mean(cv_scores_Precision)))\n",
        "#   print(\"Recall-----\"+str(np.mean(cv_scores_Recall)))\n"
      ]
    }
  ],
  "metadata": {
    "colab": {
      "provenance": [],
      "gpuType": "T4",
      "mount_file_id": "1miFFYjobQEnsnDCVADXCZHMD2BV0Oc6_",
      "authorship_tag": "ABX9TyM8Ky+k/gubrk769w8BHZEW",
      "include_colab_link": true
    },
    "kernelspec": {
      "display_name": "Python 3",
      "name": "python3"
    },
    "language_info": {
      "name": "python"
    }
  },
  "nbformat": 4,
  "nbformat_minor": 0
}